{
 "cells": [
  {
   "cell_type": "markdown",
   "metadata": {},
   "source": [
    "#Introduction "
   ]
  },
  {
   "cell_type": "markdown",
   "metadata": {},
   "source": [
    "## Who/what/why?\n",
    "\n",
    "Welcome to \"SDR for S People\"!  This is a gentle, hands-on introduction to Software Defined Radio (SDR), targeted at software people.  There are a few introductory texts out there, but they're mostly targeted at radio people.  There isn't a good textbook for self-directed learning of SDR for people without a strong engineering and radio background, at least until now.\n",
    "\n",
    "As it's currently explained, SDR presents a very steep learning curve for software developers.  This book aims to add an expositional ladder to the cliff-face there, and help people catch up on the fundamentals.\n",
    "\n",
    "The target user of this material is an autodidactic hacker, of which there are many.  The ideal user has already tried to get RTL-SDR working, but is frustrated with the \"appliance\"-like apps (gqrx, etc) and the inscrutable tool chains (GNURadio)."
   ]
  },
  {
   "cell_type": "markdown",
   "metadata": {},
   "source": [
    "## Background required\n",
    "\n",
    "The \"only\" background required here is a knowing bit of python and the ability to run linux and install packages.  You can usually run the examples inside a virtual machine (VM); a lot of the development is done in an Ubuntu VM running on my several-years-old MacBook Pro.  You'll want to have a few gigs of RAM for the examples we do; you can get away with swap, but it's much slower.  This book doesn't assume you have a particularly strong mathematical background.  We'll try to explain the math that's necessary, and will point out the places where you can safely let sleeping mathematical foundations lie.\n",
    "\n",
    "So, if you can 'apt-get' and know what 'from datetime import datetime' does, you're good-to-go.  You're especially good-to-go if that datetime line offends you on several different levels.\n",
    "\n",
    "We'll use iPython/Jupyter for most of our work.  It's a really nice way to write python in a slick Read-Evaluate-Print Loop (REPL).  We lean on the excellent numpy and scipy libraries, which are a fantastic basis for scientific and numeric computing, coupled with matplotlib, a superb plotting/graphing library.  Later on, we'll introduce GNURadio blocks, which, while slightly annoying to figure out, are incredibly powerful and pleasantly architected.\n",
    "\n",
    "But, at the end of the day, if you're someone who reads code and likes logic puzzles, you can do SDR."
   ]
  },
  {
   "cell_type": "markdown",
   "metadata": {},
   "source": [
    "## Structure of this book\n",
    "\n",
    "Instead of explaining a bunch of theoretical underpinnings, dragging you through a bunch of sometimes-subtle mathematics, we're going to just get going.  We'll start with a really basic FM receiver, turning your computer into a rather expensive (and, frankly, crappy) FM radio.  Once the basics are working, we'll explain how this works, and improve it in a bunch of ways.  In the process, you will learn those theoretical underpinnings, and get an intuitive appreication for the fundamentals of radio.  After we've explained the basic FM receiver, we'll improve it in a few big ways.  These improvements will include more fundamentals of radio.  By the end of this process, you should be much better able to learn any piece of SDR that you need to know.\n",
    "\n",
    "After we've done all this, we'll move over to doing some of the same things in GNURadio, demonstrating how to use it for flow-based programming from the command line (without the GUI).\n",
    "\n",
    "There are also a few chapters on fundamentals, including trigonometry and complex mathematics.  Even if you vaguely remember that trig class you took a decade ago, you might want to read these.  The view of them we take here is very different than anything you're taught in traditional textbooks, and will hopefully give you strong intuitions the more mainstream views can't.\n",
    "\n",
    "Because this is a project-oriented book, the coverage of topics is kind of buried within chapters on other stuff.  If you're looking for specific topics, there's an index of topics.  Every attempt was made to make these topic sections relatively free-standing, so you can just flip to that subsection and catch up quickly.  Hopefully this makes the book useful as a very poorly organized SDR (and/or signal processing) cookbook."
   ]
  },
  {
   "cell_type": "code",
   "execution_count": null,
   "metadata": {
    "collapsed": true
   },
   "outputs": [],
   "source": []
  }
 ],
 "metadata": {
  "kernelspec": {
   "display_name": "Python 2",
   "language": "python",
   "name": "python2"
  },
  "language_info": {
   "codemirror_mode": {
    "name": "ipython",
    "version": 2
   },
   "file_extension": ".py",
   "mimetype": "text/x-python",
   "name": "python",
   "nbconvert_exporter": "python",
   "pygments_lexer": "ipython2",
   "version": "2.7.6"
  }
 },
 "nbformat": 4,
 "nbformat_minor": 0
}
