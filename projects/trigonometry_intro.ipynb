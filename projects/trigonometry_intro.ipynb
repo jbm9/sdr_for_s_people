{
 "cells": [
  {
   "cell_type": "markdown",
   "metadata": {},
   "source": [
    "#The Great Trigonometry  Conspiracy"
   ]
  },
  {
   "cell_type": "markdown",
   "metadata": {},
   "source": [
    "## The secret they don't want you to know: trig is all about circles, not triangles!"
   ]
  },
  {
   "cell_type": "markdown",
   "metadata": {},
   "source": [
    "What is trigonometry about?  It's all about triangles, right?  I mean, it's right in the name: tri-gon-o-metry (three-sided-o-measurements).  Right?  Yeah, not so much, it turns out.\n",
    "\n",
    "If you think back to geometry class, you might remember that there are a bunch of \"kinds\" of triangles: scalene triangles, isoceles triangles, right triangles, equilateral triangles, and so on.  Yet trigonometry only ever talks about right triangles.  Why is that?  Why does it ignore the vast majority of kinds of triangles that exist?\n",
    "\n",
    "It's because trigonometry isn't about triangles.  It's about circles!  In fact, it's about one specific circle: the circle with a radius that's 1 unit long.  Sine, cosine, and tangent are all defined for a triangle with a hypotenuse that's one unit long.  Sine and cosine, the basic building blocks in trig, are just the coordinates of points on this circle."
   ]
  },
  {
   "cell_type": "markdown",
   "metadata": {
    "collapsed": true
   },
   "source": [
    "## It's a tri-angle, but we only care about one of them.\n",
    "\n",
    "Let's say we have a weight on the end of a string that's one unit long, and we're spinning it around in a circle.  While we're talking about implausible, arbitrary stories, let's say we want to know where that weight will be at a given point in time, as it swings around.  How would we figure that out?\n",
    "\n",
    "[ picture of swinging weight with spokes here ]\n",
    "\n",
    "To start with, let's make ourselves the center of the universe.  That is: the center of this spinning circle is $(0,0)$.  Then, we're now talking about the $(x,y)$ coordinate of the weight at any given time $t$, like so:\n",
    "\n",
    "[ picture of swinging weight with spokes here, adding imaginary x-y axes ]\n",
    "\n",
    "Looking at the picture, we can see that the string makes an angle with the x-axis.  Following mathematical tradition, we'll call this $\\theta$ (theta).  Notice that there's a right triangle formed by the x-length, the y-length, and the string length, with $\\theta$ at the origin:\n",
    "\n",
    "[ picture of swinging weight with spokes here, adding imaginary x-y axes, theta, and length markers, and a right angle marker ]\n",
    "\n",
    "Now, if only there was a handy way to relate these things: $x$, $y$, $\\theta$, and our hypotenuse (which is $1$).  No, wait, there is: trig!  Trigonometry captures the relationship between exactly these three things.  Specifically, it gives us the ratio between them, using three forms:\n",
    "\n",
    "* Sine, $\\sin \\theta$, is opposite over hypotenuse ($y/h$, or just $y$ here)\n",
    "* Cosine, $\\cos \\theta$, is adjacent over hypotenuse ($x/h$, or $x$)\n",
    "* Tangent, $\\tan \\theta$, is opposite over adjacent ($y/x$).\n",
    "\n",
    "[ picture of swinging weight with spokes here, adding imaginary x-y axes, theta, and length markers, and a right angle marker ]\n",
    "\n",
    "So, when the angle between the string and the x-axis is $\\theta$, our weight is at $(\\cos \\theta, \\sin \\theta)$.  However, we haven't talked about the units for $\\theta$: let's do that now, since it's not immediately intuitive"
   ]
  },
  {
   "cell_type": "markdown",
   "metadata": {},
   "source": [
    "## Radians: for a good reason, honest\n",
    "\n",
    "Radians give us a way to measure an angle with length, instead of by angle.  This is really helpful when you're trying to measure angles on a physical circle with an arbitrary radius.  To measure the angle, you just lay a string out along the edge of the circle, then measure it against a measuring tape with ticks spaced one radius apart.  This means that there are $2\\pi$ radians in a circle.  When you're not out measuring angles on circles with string, this doesn't seem like the most helpful unit of measure, but it turns out that it also shows up when you do calculus on spinning things.\n",
    "\n",
    "To be fair, when we meet aliens, if we point at a circle and say \"360!\", they're going to look at us like we're crazy.  On the other hand, if we point and shout \"3.14!\", they'll stop for a moment, then reply \"Oh! 6.28?!\"  And then we get to have an interstellar troll-off about $\\pi$ vs $\\tau$.  It turns out that $2\\pi$ radians is just a reasonably natural way to work with circles, so it's what gets used in mathematics.\n",
    "\n",
    "One circle is $2\\pi$ radians all the way around.  To convert from degrees to radians, we just divide by 360º and multiply by $2\\pi$ radians.\n",
    "\n",
    "So, if our weight is just starting out at the x-axis, it's at an angle of 0 radians.  It's sitting right on the axis, so there's no angle to measure.  This means that $\\cos 0 = 1$ and $\\sin 0 = 0$.  From there, once it gets a quarter of the way around the circle, it's on the y-axis.  This is $2\\pi \\times \\frac{1}{4} = \\frac{\\pi}{2}$ radians, so $\\cos \\frac{\\pi}{2} = 0$ and $\\sin \\frac{\\pi}{2} = 1$.\n"
   ]
  },
  {
   "cell_type": "markdown",
   "metadata": {},
   "source": [
    "## Frequency and angular velocity\n",
    "\n",
    "So, we've got a way to go from an angle to a position, but we wanted a way to go from time to a position.  If we had a way to go from time to angle, we could go time $\\rightarrow$ angle $\\rightarrow$ position, and we'd be done.  How can we go from time to angle?\n",
    "\n",
    "Well, let's say we're swinging the weight around once every second.  This lets us figure out the angle given the time: at $t=\\frac{1}{10}s$, the weight is 1/10th of the way around the circle.  If we were spinning it three times per second, at $t=0.1$ it would be $3\\times\\frac{1}{10}$, or 3/10ths of the way around the circle.  Measured in radians, that's $\\theta = 3\\times\\frac{1}{10} \\times 2\\pi = 0.6\\pi$ radians, after 0.3 seconds.\n",
    "\n",
    "The number of complete circles the weight travels in a second is called its \"frequency,\" usually denoted by $f$.  This is measured in \"Hertz\", abbreviated Hz (though radio people still sometimes use \"cps\", \"cycles per second\").  If the weight is spinning around three times per second, that's a frequency of 3Hz.\n",
    "\n",
    "As it spins around those three times per second, the weight is going through $2 \\pi \\times 3 = 6 \\pi$ radians, giving it an _angular velocity_ of $6\\pi$ rad/s.  This angular velocity idea is key, and is something you might not have heard about before.  Basically, it's just a measure of how fast the angle changes as a function of time.  This angular velocity, not the frequency of spin, lets us tie together time and position.\n",
    "\n",
    "\n",
    "At time $t$, given an angular velocity of $6\\pi$, we have $\\theta(t) = 6\\pi t$.  From there, we can get the position with $(\\cos \\theta, \\sin \\theta) = (\\cos (6\\pi t), \\sin (6\\pi t))$.  This ties things up nicely, answering our original question."
   ]
  },
  {
   "cell_type": "code",
   "execution_count": 1,
   "metadata": {
    "collapsed": false
   },
   "outputs": [
    {
     "ename": "NameError",
     "evalue": "name 'figure' is not defined",
     "output_type": "error",
     "traceback": [
      "\u001b[1;31m---------------------------------------------------------------------------\u001b[0m",
      "\u001b[1;31mNameError\u001b[0m                                 Traceback (most recent call last)",
      "\u001b[1;32m<ipython-input-1-9b1825e9be7f>\u001b[0m in \u001b[0;36m<module>\u001b[1;34m()\u001b[0m\n\u001b[1;32m----> 1\u001b[1;33m \u001b[0mfigure\u001b[0m\u001b[1;33m(\u001b[0m\u001b[0mfigsize\u001b[0m\u001b[1;33m=\u001b[0m\u001b[1;33m(\u001b[0m\u001b[1;36m5\u001b[0m\u001b[1;33m,\u001b[0m\u001b[1;36m5\u001b[0m\u001b[1;33m)\u001b[0m\u001b[1;33m)\u001b[0m \u001b[1;31m# make our plot square\u001b[0m\u001b[1;33m\u001b[0m\u001b[0m\n\u001b[0m\u001b[0;32m      2\u001b[0m \u001b[1;33m\u001b[0m\u001b[0m\n\u001b[0;32m      3\u001b[0m \u001b[1;31m# The list of angles we're going to look at here\u001b[0m\u001b[1;33m\u001b[0m\u001b[1;33m\u001b[0m\u001b[0m\n\u001b[0;32m      4\u001b[0m \u001b[0mthetas_degrees\u001b[0m \u001b[1;33m=\u001b[0m \u001b[1;33m[\u001b[0m \u001b[1;36m0\u001b[0m\u001b[1;33m,\u001b[0m \u001b[1;33m-\u001b[0m\u001b[1;36m30\u001b[0m\u001b[1;33m,\u001b[0m \u001b[1;36m45\u001b[0m\u001b[1;33m,\u001b[0m \u001b[1;36m90\u001b[0m \u001b[1;33m]\u001b[0m\u001b[1;33m\u001b[0m\u001b[0m\n\u001b[0;32m      5\u001b[0m \u001b[1;33m\u001b[0m\u001b[0m\n",
      "\u001b[1;31mNameError\u001b[0m: name 'figure' is not defined"
     ]
    }
   ],
   "source": [
    "figure(figsize=(5,5)) # make our plot square\n",
    "\n",
    "# The list of angles we're going to look at here\n",
    "thetas_degrees = [ 0, -30, 45, 90 ]\n",
    "\n",
    "for i,theta_deg in enumerate(thetas_degrees):\n",
    "    theta_rad = theta_deg/180.0 * 3.14   # convert to radians\n",
    "    x_i = math.cos(theta_rad)\n",
    "    y_i = math.sin(theta_rad)\n",
    "    \n",
    "    # Draw the hypotenuse\n",
    "    plot([0, x_i], [0, y_i], 'o--', color=\"blue\") # x points, then y points, as separate lists. sorry.\n",
    "    \n",
    "    # Draw the \"far\" side from our angle\n",
    "    vlines(x_i, 0, y_i, color=\"red\", linewidth=2)\n",
    "    \n",
    "    # Tweak the plot: this is just here to make it look pretty.\n",
    "    xlim(-1.1,1.1)\n",
    "    ylim(-1.1,1.1)\n",
    "    hlines(0, -2,2, color=\"grey\")\n",
    "    vlines(0, -2,2, color=\"grey\")\n"
   ]
  },
  {
   "cell_type": "code",
   "execution_count": null,
   "metadata": {
    "collapsed": true
   },
   "outputs": [],
   "source": []
  }
 ],
 "metadata": {
  "kernelspec": {
   "display_name": "Python 2",
   "language": "python",
   "name": "python2"
  },
  "language_info": {
   "codemirror_mode": {
    "name": "ipython",
    "version": 2
   },
   "file_extension": ".py",
   "mimetype": "text/x-python",
   "name": "python",
   "nbconvert_exporter": "python",
   "pygments_lexer": "ipython2",
   "version": "2.7.6"
  }
 },
 "nbformat": 4,
 "nbformat_minor": 0
}
