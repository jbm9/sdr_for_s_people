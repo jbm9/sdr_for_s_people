{
 "cells": [
  {
   "cell_type": "markdown",
   "metadata": {},
   "source": [
    "#The Great Trigonometry  Conspiracy"
   ]
  },
  {
   "cell_type": "markdown",
   "metadata": {},
   "source": [
    "## The secret they don't want you to know: trig is all about circles, not triangles!"
   ]
  },
  {
   "cell_type": "markdown",
   "metadata": {},
   "source": [
    "What is trigonometry about?  It's all about triangles, right?  I mean, it's right in the name: tri-gon-o-metry (three-sided-o-measurements).  Right?  Yeah, not so much, it turns out.\n",
    "\n",
    "If you think back to geometry class, you might remember that there are a bunch of \"kinds\" of triangles: scalene triangles, isoceles triangles, right triangles, equilateral triangles, and so on.  Yet trigonometry only ever talks about right triangles.  Why is that?  Why does it ignore the vast majority of kinds of triangles that exist?\n",
    "\n",
    "It's because trigonometry isn't about triangles.  It's about circles!  In fact, it's about one specific circle: the circle with a radius that's 1 unit long.  Sine, cosine, and tangent are all defined for a triangle with a hypotenuse that's one unit long.  Sine and cosine, the basic building blocks in trig, are just the coordinates of points on this circle."
   ]
  },
  {
   "cell_type": "code",
   "execution_count": null,
   "metadata": {
    "collapsed": true
   },
   "outputs": [],
   "source": []
  }
 ],
 "metadata": {
  "kernelspec": {
   "display_name": "Python 2",
   "language": "python",
   "name": "python2"
  },
  "language_info": {
   "codemirror_mode": {
    "name": "ipython",
    "version": 2
   },
   "file_extension": ".py",
   "mimetype": "text/x-python",
   "name": "python",
   "nbconvert_exporter": "python",
   "pygments_lexer": "ipython2",
   "version": "2.7.6"
  }
 },
 "nbformat": 4,
 "nbformat_minor": 0
}
